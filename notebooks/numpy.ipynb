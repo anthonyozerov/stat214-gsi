{
 "cells": [
  {
   "cell_type": "code",
   "execution_count": null,
   "id": "ad630bb0-a553-4d96-8d1b-93505f7f4430",
   "metadata": {},
   "outputs": [],
   "source": [
    "import numpy as np\n",
    "# this is a placeholder for now"
   ]
  }
 ],
 "metadata": {
  "kernelspec": {
   "display_name": "Python 3 (ipykernel)",
   "language": "python",
   "name": "python3"
  },
  "language_info": {
   "codemirror_mode": {
    "name": "ipython",
    "version": 3
   },
   "file_extension": ".py",
   "mimetype": "text/x-python",
   "name": "python",
   "nbconvert_exporter": "python",
   "pygments_lexer": "ipython3",
   "version": "3.10.12"
  }
 },
 "nbformat": 4,
 "nbformat_minor": 5
}
